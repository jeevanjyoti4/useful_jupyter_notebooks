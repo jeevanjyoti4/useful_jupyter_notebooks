{
 "cells": [
  {
   "cell_type": "code",
   "execution_count": 1,
   "metadata": {},
   "outputs": [],
   "source": [
    "from sympy import *\n",
    "init_printing()"
   ]
  },
  {
   "cell_type": "code",
   "execution_count": 2,
   "metadata": {},
   "outputs": [],
   "source": [
    "M, L, T = symbols('M L T',positive=True)\n",
    "a, b, c = symbols('a b c',positive=True)\n",
    "delP, Q, N, D, W, rho, mu = symbols('delP Q N D W rho mu')\n",
    "Qexp = L**3*T**(-1)\n",
    "delPexp = M*L**(-1)*T**(-2)\n",
    "Nexp = T**(-1)\n",
    "Dexp = L\n",
    "Wexp = M*L**2*T**(-3)\n",
    "rhoexp = M*L**(-3)\n",
    "muexp = M*L**(-1)*T**(-1)"
   ]
  },
  {
   "cell_type": "code",
   "execution_count": 3,
   "metadata": {},
   "outputs": [
    {
     "name": "stdout",
     "output_type": "stream",
     "text": [
      "Repeating variables: Q, rho, mu\n"
     ]
    },
    {
     "data": {
      "image/png": "[encoded data removed]",
      "text/latex": [
       "$$\\frac{Q^{2} delP}{\\mu^{4}} \\rho^{3}$$"
      ],
      "text/plain": [
       " 2       3\n",
       "Q ⋅delP⋅ρ \n",
       "──────────\n",
       "     4    \n",
       "    μ     "
      ]
     },
     "metadata": {},
     "output_type": "display_data"
    },
    {
     "data": {
      "image/png": "[encoded data removed]",
      "text/latex": [
       "$$\\frac{N Q^{2}}{\\mu^{3}} \\rho^{3}$$"
      ],
      "text/plain": [
       "   2  3\n",
       "N⋅Q ⋅ρ \n",
       "───────\n",
       "    3  \n",
       "   μ   "
      ]
     },
     "metadata": {},
     "output_type": "display_data"
    },
    {
     "data": {
      "image/png": "[encoded data removed]",
      "text/latex": [
       "$$\\frac{D \\mu}{Q \\rho}$$"
      ],
      "text/plain": [
       "D⋅μ\n",
       "───\n",
       "Q⋅ρ"
      ]
     },
     "metadata": {},
     "output_type": "display_data"
    },
    {
     "data": {
      "image/png": "[encoded data removed]",
      "text/latex": [
       "$$\\frac{Q W}{\\mu^{4}} \\rho^{3}$$"
      ],
      "text/plain": [
       "     3\n",
       "Q⋅W⋅ρ \n",
       "──────\n",
       "   4  \n",
       "  μ   "
      ]
     },
     "metadata": {},
     "output_type": "display_data"
    }
   ],
   "source": [
    "print('Repeating variables: Q, rho, mu')\n",
    "\n",
    "r = [Q, rho, mu]\n",
    "rexp = [Qexp, rhoexp, muexp]\n",
    "v = [delP, N, D, W]\n",
    "vexp = [delPexp, Nexp, Dexp, Wexp]\n",
    "\n",
    "for k in range(0,4):\n",
    "    Pi = v[k]*r[0]**a*r[1]**b*r[2]**c; #display(Pi)\n",
    "    Piexp = powsimp(expand_power_base(vexp[k]*(rexp[0]**a)*(rexp[1]**b)*(rexp[2]**c))); #display(Piexp)\n",
    "    expr=[expand_log(log(Piexp)).coeff(log(M)), expand_log(log(Piexp)).coeff(log(L)), expand_log(log(Piexp)).coeff(log(T))]\n",
    "    soln,=linsolve(expr,(a,b,c))\n",
    "    display(Pi.subs({a:soln[0],b:soln[1],c:soln[2]}))"
   ]
  },
  {
   "cell_type": "code",
   "execution_count": 4,
   "metadata": {},
   "outputs": [
    {
     "name": "stdout",
     "output_type": "stream",
     "text": [
      "Repeating variables: Q, rho, D\n"
     ]
    },
    {
     "data": {
      "image/png": "[encoded data removed]",
      "text/latex": [
       "$$\\frac{D^{4} delP}{Q^{2} \\rho}$$"
      ],
      "text/plain": [
       " 4     \n",
       "D ⋅delP\n",
       "───────\n",
       "   2   \n",
       "  Q ⋅ρ "
      ]
     },
     "metadata": {},
     "output_type": "display_data"
    },
    {
     "data": {
      "image/png": "[encoded data removed]",
      "text/latex": [
       "$$\\frac{D^{3} N}{Q}$$"
      ],
      "text/plain": [
       " 3  \n",
       "D ⋅N\n",
       "────\n",
       " Q  "
      ]
     },
     "metadata": {},
     "output_type": "display_data"
    },
    {
     "data": {
      "image/png": "[encoded data removed]",
      "text/latex": [
       "$$\\frac{D^{4} W}{Q^{3} \\rho}$$"
      ],
      "text/plain": [
       " 4  \n",
       "D ⋅W\n",
       "────\n",
       " 3  \n",
       "Q ⋅ρ"
      ]
     },
     "metadata": {},
     "output_type": "display_data"
    },
    {
     "data": {
      "image/png": "[encoded data removed]",
      "text/latex": [
       "$$\\frac{D \\mu}{Q \\rho}$$"
      ],
      "text/plain": [
       "D⋅μ\n",
       "───\n",
       "Q⋅ρ"
      ]
     },
     "metadata": {},
     "output_type": "display_data"
    }
   ],
   "source": [
    "print('Repeating variables: Q, rho, D')\n",
    "\n",
    "r = [Q, rho, D]\n",
    "rexp = [Qexp, rhoexp, Dexp]\n",
    "v = [delP, N, W, mu]\n",
    "vexp = [delPexp, Nexp, Wexp, muexp]\n",
    "\n",
    "for k in range(0,4):\n",
    "    Pi = v[k]*r[0]**a*r[1]**b*r[2]**c; #display(Pi)\n",
    "    Piexp = powsimp(expand_power_base(vexp[k]*(rexp[0]**a)*(rexp[1]**b)*(rexp[2]**c))); #display(Piexp)\n",
    "    expr=[expand_log(log(Piexp)).coeff(log(M)), expand_log(log(Piexp)).coeff(log(L)), expand_log(log(Piexp)).coeff(log(T))]\n",
    "    soln,=linsolve(expr,(a,b,c))\n",
    "    display(Pi.subs({a:soln[0],b:soln[1],c:soln[2]}))"
   ]
  },
  {
   "cell_type": "code",
   "execution_count": 5,
   "metadata": {},
   "outputs": [
    {
     "name": "stdout",
     "output_type": "stream",
     "text": [
      "Repeating variables: W, N, D\n"
     ]
    },
    {
     "data": {
      "image/png": "[encoded data removed]",
      "text/latex": [
       "$$\\frac{N delP}{W} D^{3}$$"
      ],
      "text/plain": [
       " 3       \n",
       "D ⋅N⋅delP\n",
       "─────────\n",
       "    W    "
      ]
     },
     "metadata": {},
     "output_type": "display_data"
    },
    {
     "data": {
      "image/png": "[encoded data removed]",
      "text/latex": [
       "$$\\frac{Q}{D^{3} N}$$"
      ],
      "text/plain": [
       " Q  \n",
       "────\n",
       " 3  \n",
       "D ⋅N"
      ]
     },
     "metadata": {},
     "output_type": "display_data"
    },
    {
     "data": {
      "image/png": "[encoded data removed]",
      "text/latex": [
       "$$\\frac{D^{5} \\rho}{W} N^{3}$$"
      ],
      "text/plain": [
       " 5  3  \n",
       "D ⋅N ⋅ρ\n",
       "───────\n",
       "   W   "
      ]
     },
     "metadata": {},
     "output_type": "display_data"
    },
    {
     "data": {
      "image/png": "[encoded data removed]",
      "text/latex": [
       "$$\\frac{D^{3} \\mu}{W} N^{2}$$"
      ],
      "text/plain": [
       " 3  2  \n",
       "D ⋅N ⋅μ\n",
       "───────\n",
       "   W   "
      ]
     },
     "metadata": {},
     "output_type": "display_data"
    }
   ],
   "source": [
    "print('Repeating variables: W, N, D')\n",
    "\n",
    "r = [W, N, D]\n",
    "rexp = [Wexp, Nexp, Dexp]\n",
    "v = [delP, Q, rho, mu]\n",
    "vexp = [delPexp, Qexp, rhoexp, muexp]\n",
    "\n",
    "for k in range(0,4):\n",
    "    Pi = v[k]*r[0]**a*r[1]**b*r[2]**c; #display(Pi)\n",
    "    Piexp = powsimp(expand_power_base(vexp[k]*(rexp[0]**a)*(rexp[1]**b)*(rexp[2]**c))); #display(Piexp)\n",
    "    expr=[expand_log(log(Piexp)).coeff(log(M)), expand_log(log(Piexp)).coeff(log(L)), expand_log(log(Piexp)).coeff(log(T))]\n",
    "    soln,=linsolve(expr,(a,b,c))\n",
    "    display(Pi.subs({a:soln[0],b:soln[1],c:soln[2]}))"
   ]
  },
  {
   "cell_type": "code",
   "execution_count": 6,
   "metadata": {},
   "outputs": [
    {
     "name": "stdout",
     "output_type": "stream",
     "text": [
      "Repeating variables: N, D, mu\n"
     ]
    },
    {
     "data": {
      "image/png": "[encoded data removed]",
      "text/latex": [
       "$$\\frac{delP}{N \\mu}$$"
      ],
      "text/plain": [
       "delP\n",
       "────\n",
       "N⋅μ "
      ]
     },
     "metadata": {},
     "output_type": "display_data"
    },
    {
     "data": {
      "image/png": "[encoded data removed]",
      "text/latex": [
       "$$\\frac{Q}{D^{3} N}$$"
      ],
      "text/plain": [
       " Q  \n",
       "────\n",
       " 3  \n",
       "D ⋅N"
      ]
     },
     "metadata": {},
     "output_type": "display_data"
    },
    {
     "data": {
      "image/png": "[encoded data removed]",
      "text/latex": [
       "$$\\frac{W}{D^{3} N^{2} \\mu}$$"
      ],
      "text/plain": [
       "   W   \n",
       "───────\n",
       " 3  2  \n",
       "D ⋅N ⋅μ"
      ]
     },
     "metadata": {},
     "output_type": "display_data"
    },
    {
     "data": {
      "image/png": "[encoded data removed]",
      "text/latex": [
       "$$\\frac{N \\rho}{\\mu} D^{2}$$"
      ],
      "text/plain": [
       " 2    \n",
       "D ⋅N⋅ρ\n",
       "──────\n",
       "  μ   "
      ]
     },
     "metadata": {},
     "output_type": "display_data"
    }
   ],
   "source": [
    "print('Repeating variables: N, D, mu')\n",
    "\n",
    "r = [N, D, mu]\n",
    "rexp = [Nexp, Dexp, muexp]\n",
    "v = [delP, Q, W, rho]\n",
    "vexp = [delPexp, Qexp, Wexp, rhoexp]\n",
    "\n",
    "for k in range(0,4):\n",
    "    Pi = v[k]*r[0]**a*r[1]**b*r[2]**c; #display(Pi)\n",
    "    Piexp = powsimp(expand_power_base(vexp[k]*(rexp[0]**a)*(rexp[1]**b)*(rexp[2]**c))); #display(Piexp)\n",
    "    expr=[expand_log(log(Piexp)).coeff(log(M)), expand_log(log(Piexp)).coeff(log(L)), expand_log(log(Piexp)).coeff(log(T))]\n",
    "    soln,=linsolve(expr,(a,b,c))\n",
    "    display(Pi.subs({a:soln[0],b:soln[1],c:soln[2]}))"
   ]
  },
  {
   "cell_type": "code",
   "execution_count": 7,
   "metadata": {},
   "outputs": [
    {
     "name": "stdout",
     "output_type": "stream",
     "text": [
      "Repeating variables: N, D, rho\n"
     ]
    },
    {
     "data": {
      "image/png": "[encoded data removed]",
      "text/latex": [
       "$$\\frac{delP}{D^{2} N^{2} \\rho}$$"
      ],
      "text/plain": [
       "  delP \n",
       "───────\n",
       " 2  2  \n",
       "D ⋅N ⋅ρ"
      ]
     },
     "metadata": {},
     "output_type": "display_data"
    },
    {
     "data": {
      "image/png": "[encoded data removed]",
      "text/latex": [
       "$$\\frac{Q}{D^{3} N}$$"
      ],
      "text/plain": [
       " Q  \n",
       "────\n",
       " 3  \n",
       "D ⋅N"
      ]
     },
     "metadata": {},
     "output_type": "display_data"
    },
    {
     "data": {
      "image/png": "[encoded data removed]",
      "text/latex": [
       "$$\\frac{W}{D^{5} N^{3} \\rho}$$"
      ],
      "text/plain": [
       "   W   \n",
       "───────\n",
       " 5  3  \n",
       "D ⋅N ⋅ρ"
      ]
     },
     "metadata": {},
     "output_type": "display_data"
    },
    {
     "data": {
      "image/png": "[encoded data removed]",
      "text/latex": [
       "$$\\frac{\\mu}{D^{2} N \\rho}$$"
      ],
      "text/plain": [
       "  μ   \n",
       "──────\n",
       " 2    \n",
       "D ⋅N⋅ρ"
      ]
     },
     "metadata": {},
     "output_type": "display_data"
    }
   ],
   "source": [
    "print('Repeating variables: N, D, rho')\n",
    "\n",
    "r = [N, D, rho]\n",
    "rexp = [Nexp, Dexp, rhoexp]\n",
    "v = [delP, Q, W, mu]\n",
    "vexp = [delPexp, Qexp, Wexp, muexp]\n",
    "\n",
    "for k in range(0,4):\n",
    "    Pi = v[k]*r[0]**a*r[1]**b*r[2]**c; #display(Pi)\n",
    "    Piexp = powsimp(expand_power_base(vexp[k]*(rexp[0]**a)*(rexp[1]**b)*(rexp[2]**c))); #display(Piexp)\n",
    "    expr=[expand_log(log(Piexp)).coeff(log(M)), expand_log(log(Piexp)).coeff(log(L)), expand_log(log(Piexp)).coeff(log(T))]\n",
    "    soln,=linsolve(expr,(a,b,c))\n",
    "    display(Pi.subs({a:soln[0],b:soln[1],c:soln[2]}))"
   ]
  },
  {
   "cell_type": "code",
   "execution_count": 8,
   "metadata": {},
   "outputs": [
    {
     "name": "stdout",
     "output_type": "stream",
     "text": [
      "Repeating variables: D, rho, mu\n"
     ]
    },
    {
     "data": {
      "image/png": "[encoded data removed]",
      "text/latex": [
       "$$\\frac{delP \\rho}{\\mu^{2}} D^{2}$$"
      ],
      "text/plain": [
       " 2       \n",
       "D ⋅delP⋅ρ\n",
       "─────────\n",
       "     2   \n",
       "    μ    "
      ]
     },
     "metadata": {},
     "output_type": "display_data"
    },
    {
     "data": {
      "image/png": "[encoded data removed]",
      "text/latex": [
       "$$\\frac{Q \\rho}{D \\mu}$$"
      ],
      "text/plain": [
       "Q⋅ρ\n",
       "───\n",
       "D⋅μ"
      ]
     },
     "metadata": {},
     "output_type": "display_data"
    },
    {
     "data": {
      "image/png": "[encoded data removed]",
      "text/latex": [
       "$$\\frac{N \\rho}{\\mu} D^{2}$$"
      ],
      "text/plain": [
       " 2    \n",
       "D ⋅N⋅ρ\n",
       "──────\n",
       "  μ   "
      ]
     },
     "metadata": {},
     "output_type": "display_data"
    },
    {
     "data": {
      "image/png": "[encoded data removed]",
      "text/latex": [
       "$$\\frac{D W}{\\mu^{3}} \\rho^{2}$$"
      ],
      "text/plain": [
       "     2\n",
       "D⋅W⋅ρ \n",
       "──────\n",
       "   3  \n",
       "  μ   "
      ]
     },
     "metadata": {},
     "output_type": "display_data"
    }
   ],
   "source": [
    "print('Repeating variables: D, rho, mu')\n",
    "\n",
    "r = [D, rho, mu]\n",
    "rexp = [Dexp, rhoexp, muexp]\n",
    "v = [delP, Q, N, W]\n",
    "vexp = [delPexp, Qexp, Nexp, Wexp]\n",
    "\n",
    "for k in range(0,4):\n",
    "    Pi = v[k]*r[0]**a*r[1]**b*r[2]**c; #display(Pi)\n",
    "    Piexp = powsimp(expand_power_base(vexp[k]*(rexp[0]**a)*(rexp[1]**b)*(rexp[2]**c))); #display(Piexp)\n",
    "    expr=[expand_log(log(Piexp)).coeff(log(M)), expand_log(log(Piexp)).coeff(log(L)), expand_log(log(Piexp)).coeff(log(T))]\n",
    "    soln,=linsolve(expr,(a,b,c))\n",
    "    display(Pi.subs({a:soln[0],b:soln[1],c:soln[2]}))"
   ]
  },
  {
   "cell_type": "code",
   "execution_count": 9,
   "metadata": {},
   "outputs": [
    {
     "name": "stdout",
     "output_type": "stream",
     "text": [
      "Repeating variables: Q, D, mu\n"
     ]
    },
    {
     "data": {
      "image/png": "[encoded data removed]",
      "text/latex": [
       "$$\\frac{D^{3} delP}{Q \\mu}$$"
      ],
      "text/plain": [
       " 3     \n",
       "D ⋅delP\n",
       "───────\n",
       "  Q⋅μ  "
      ]
     },
     "metadata": {},
     "output_type": "display_data"
    },
    {
     "data": {
      "image/png": "[encoded data removed]",
      "text/latex": [
       "$$\\frac{D^{3} N}{Q}$$"
      ],
      "text/plain": [
       " 3  \n",
       "D ⋅N\n",
       "────\n",
       " Q  "
      ]
     },
     "metadata": {},
     "output_type": "display_data"
    },
    {
     "data": {
      "image/png": "[encoded data removed]",
      "text/latex": [
       "$$\\frac{D^{3} W}{Q^{2} \\mu}$$"
      ],
      "text/plain": [
       " 3  \n",
       "D ⋅W\n",
       "────\n",
       " 2  \n",
       "Q ⋅μ"
      ]
     },
     "metadata": {},
     "output_type": "display_data"
    },
    {
     "data": {
      "image/png": "[encoded data removed]",
      "text/latex": [
       "$$\\frac{Q \\rho}{D \\mu}$$"
      ],
      "text/plain": [
       "Q⋅ρ\n",
       "───\n",
       "D⋅μ"
      ]
     },
     "metadata": {},
     "output_type": "display_data"
    }
   ],
   "source": [
    "print('Repeating variables: Q, D, mu')\n",
    "\n",
    "r = [Q, D, mu]\n",
    "rexp = [Qexp, Dexp, muexp]\n",
    "v = [delP, N, W, rho]\n",
    "vexp = [delPexp, Nexp, Wexp, rhoexp]\n",
    "\n",
    "for k in range(0,4):\n",
    "    Pi = v[k]*r[0]**a*r[1]**b*r[2]**c; #display(Pi)\n",
    "    Piexp = powsimp(expand_power_base(vexp[k]*(rexp[0]**a)*(rexp[1]**b)*(rexp[2]**c))); #display(Piexp)\n",
    "    expr=[expand_log(log(Piexp)).coeff(log(M)), expand_log(log(Piexp)).coeff(log(L)), expand_log(log(Piexp)).coeff(log(T))]\n",
    "    soln,=linsolve(expr,(a,b,c))\n",
    "    display(Pi.subs({a:soln[0],b:soln[1],c:soln[2]}))"
   ]
  },
  {
   "cell_type": "code",
   "execution_count": 10,
   "metadata": {},
   "outputs": [
    {
     "name": "stdout",
     "output_type": "stream",
     "text": [
      "Repeating variables: Q, W, mu\n"
     ]
    },
    {
     "data": {
      "image/png": "[encoded data removed]",
      "text/latex": [
       "$$\\frac{Q delP}{W}$$"
      ],
      "text/plain": [
       "Q⋅delP\n",
       "──────\n",
       "  W   "
      ]
     },
     "metadata": {},
     "output_type": "display_data"
    },
    {
     "data": {
      "image/png": "[encoded data removed]",
      "text/latex": [
       "$$\\frac{N Q}{W} \\mu$$"
      ],
      "text/plain": [
       "N⋅Q⋅μ\n",
       "─────\n",
       "  W  "
      ]
     },
     "metadata": {},
     "output_type": "display_data"
    },
    {
     "data": {
      "image/png": "[encoded data removed]",
      "text/latex": [
       "$$\\frac{D \\sqrt[3]{W}}{Q^{\\frac{2}{3}} \\sqrt[3]{\\mu}}$$"
      ],
      "text/plain": [
       "   3 ___  \n",
       " D⋅╲╱ W   \n",
       "──────────\n",
       " 2/3 3 ___\n",
       "Q   ⋅╲╱ μ "
      ]
     },
     "metadata": {},
     "output_type": "display_data"
    },
    {
     "data": {
      "image/png": "[encoded data removed]",
      "text/latex": [
       "$$\\frac{\\sqrt[3]{Q} \\rho}{\\mu^{\\frac{4}{3}}} \\sqrt[3]{W}$$"
      ],
      "text/plain": [
       "3 ___ 3 ___  \n",
       "╲╱ Q ⋅╲╱ W ⋅ρ\n",
       "─────────────\n",
       "      4/3    \n",
       "     μ       "
      ]
     },
     "metadata": {},
     "output_type": "display_data"
    }
   ],
   "source": [
    "print('Repeating variables: Q, W, mu')\n",
    "\n",
    "r = [Q, W, mu]\n",
    "rexp = [Qexp, Wexp, muexp]\n",
    "v = [delP, N, D, rho]\n",
    "vexp = [delPexp, Nexp, Dexp, rhoexp]\n",
    "\n",
    "for k in range(0,4):\n",
    "    Pi = v[k]*r[0]**a*r[1]**b*r[2]**c; #display(Pi)\n",
    "    Piexp = powsimp(expand_power_base(vexp[k]*(rexp[0]**a)*(rexp[1]**b)*(rexp[2]**c))); #display(Piexp)\n",
    "    expr=[expand_log(log(Piexp)).coeff(log(M)), expand_log(log(Piexp)).coeff(log(L)), expand_log(log(Piexp)).coeff(log(T))]\n",
    "    soln,=linsolve(expr,(a,b,c))\n",
    "    display(Pi.subs({a:soln[0],b:soln[1],c:soln[2]}))"
   ]
  },
  {
   "cell_type": "code",
   "execution_count": 11,
   "metadata": {},
   "outputs": [
    {
     "name": "stdout",
     "output_type": "stream",
     "text": [
      "Repeating variables: Q, W, D\n"
     ]
    },
    {
     "data": {
      "image/png": "[encoded data removed]",
      "text/latex": [
       "$$\\frac{Q delP}{W}$$"
      ],
      "text/plain": [
       "Q⋅delP\n",
       "──────\n",
       "  W   "
      ]
     },
     "metadata": {},
     "output_type": "display_data"
    },
    {
     "data": {
      "image/png": "[encoded data removed]",
      "text/latex": [
       "$$\\frac{D^{3} N}{Q}$$"
      ],
      "text/plain": [
       " 3  \n",
       "D ⋅N\n",
       "────\n",
       " Q  "
      ]
     },
     "metadata": {},
     "output_type": "display_data"
    },
    {
     "data": {
      "image/png": "[encoded data removed]",
      "text/latex": [
       "$$\\frac{Q^{2} \\mu}{D^{3} W}$$"
      ],
      "text/plain": [
       " 2  \n",
       "Q ⋅μ\n",
       "────\n",
       " 3  \n",
       "D ⋅W"
      ]
     },
     "metadata": {},
     "output_type": "display_data"
    },
    {
     "data": {
      "image/png": "[encoded data removed]",
      "text/latex": [
       "$$\\frac{Q^{3} \\rho}{D^{4} W}$$"
      ],
      "text/plain": [
       " 3  \n",
       "Q ⋅ρ\n",
       "────\n",
       " 4  \n",
       "D ⋅W"
      ]
     },
     "metadata": {},
     "output_type": "display_data"
    }
   ],
   "source": [
    "print('Repeating variables: Q, W, D')\n",
    "\n",
    "r = [Q, W, D]\n",
    "rexp = [Qexp, Wexp, Dexp]\n",
    "v = [delP, N, mu, rho]\n",
    "vexp = [delPexp, Nexp, muexp, rhoexp]\n",
    "\n",
    "for k in range(0,4):\n",
    "    Pi = v[k]*r[0]**a*r[1]**b*r[2]**c; #display(Pi)\n",
    "    Piexp = powsimp(expand_power_base(vexp[k]*(rexp[0]**a)*(rexp[1]**b)*(rexp[2]**c))); #display(Piexp)\n",
    "    expr=[expand_log(log(Piexp)).coeff(log(M)), expand_log(log(Piexp)).coeff(log(L)), expand_log(log(Piexp)).coeff(log(T))]\n",
    "    soln,=linsolve(expr,(a,b,c))\n",
    "    display(Pi.subs({a:soln[0],b:soln[1],c:soln[2]}))"
   ]
  },
  {
   "cell_type": "code",
   "execution_count": 12,
   "metadata": {},
   "outputs": [
    {
     "name": "stdout",
     "output_type": "stream",
     "text": [
      "Repeating variables: Q, N, W\n"
     ]
    },
    {
     "data": {
      "image/png": "[encoded data removed]",
      "text/latex": [
       "$$\\frac{D \\sqrt[3]{N}}{\\sqrt[3]{Q}}$$"
      ],
      "text/plain": [
       "  3 ___\n",
       "D⋅╲╱ N \n",
       "───────\n",
       " 3 ___ \n",
       " ╲╱ Q  "
      ]
     },
     "metadata": {},
     "output_type": "display_data"
    },
    {
     "data": {
      "image/png": "[encoded data removed]",
      "text/latex": [
       "$$\\frac{N^{\\frac{4}{3}} \\rho}{W} Q^{\\frac{5}{3}}$$"
      ],
      "text/plain": [
       " 4/3  5/3  \n",
       "N   ⋅Q   ⋅ρ\n",
       "───────────\n",
       "     W     "
      ]
     },
     "metadata": {},
     "output_type": "display_data"
    },
    {
     "data": {
      "image/png": "[encoded data removed]",
      "text/latex": [
       "$$\\frac{N Q}{W} \\mu$$"
      ],
      "text/plain": [
       "N⋅Q⋅μ\n",
       "─────\n",
       "  W  "
      ]
     },
     "metadata": {},
     "output_type": "display_data"
    },
    {
     "data": {
      "image/png": "[encoded data removed]",
      "text/latex": [
       "$$\\frac{Q delP}{W}$$"
      ],
      "text/plain": [
       "Q⋅delP\n",
       "──────\n",
       "  W   "
      ]
     },
     "metadata": {},
     "output_type": "display_data"
    }
   ],
   "source": [
    "print('Repeating variables: Q, N, W')\n",
    "\n",
    "r = [Q, N, W]\n",
    "rexp = [Qexp, Nexp, Wexp]\n",
    "v = [D, rho, mu, delP]\n",
    "vexp = [Dexp, rhoexp, muexp, delPexp]\n",
    "\n",
    "for k in range(0,4):\n",
    "    Pi = v[k]*r[0]**a*r[1]**b*r[2]**c; #display(Pi)\n",
    "    Piexp = powsimp(expand_power_base(vexp[k]*(rexp[0]**a)*(rexp[1]**b)*(rexp[2]**c))); #display(Piexp)\n",
    "    expr=[expand_log(log(Piexp)).coeff(log(M)), expand_log(log(Piexp)).coeff(log(L)), expand_log(log(Piexp)).coeff(log(T))]\n",
    "    soln,=linsolve(expr,(a,b,c))\n",
    "    display(Pi.subs({a:soln[0],b:soln[1],c:soln[2]}))"
   ]
  },
  {
   "cell_type": "code",
   "execution_count": 13,
   "metadata": {},
   "outputs": [
    {
     "name": "stdout",
     "output_type": "stream",
     "text": [
      "Repeating variables: Q, mu, N\n"
     ]
    },
    {
     "data": {
      "image/png": "[encoded data removed]",
      "text/latex": [
       "$$\\frac{D \\sqrt[3]{N}}{\\sqrt[3]{Q}}$$"
      ],
      "text/plain": [
       "  3 ___\n",
       "D⋅╲╱ N \n",
       "───────\n",
       " 3 ___ \n",
       " ╲╱ Q  "
      ]
     },
     "metadata": {},
     "output_type": "display_data"
    },
    {
     "data": {
      "image/png": "[encoded data removed]",
      "text/latex": [
       "$$\\frac{\\sqrt[3]{N} \\rho}{\\mu} Q^{\\frac{2}{3}}$$"
      ],
      "text/plain": [
       "3 ___  2/3  \n",
       "╲╱ N ⋅Q   ⋅ρ\n",
       "────────────\n",
       "     μ      "
      ]
     },
     "metadata": {},
     "output_type": "display_data"
    },
    {
     "data": {
      "image/png": "[encoded data removed]",
      "text/latex": [
       "$$\\frac{W}{N Q \\mu}$$"
      ],
      "text/plain": [
       "  W  \n",
       "─────\n",
       "N⋅Q⋅μ"
      ]
     },
     "metadata": {},
     "output_type": "display_data"
    },
    {
     "data": {
      "image/png": "[encoded data removed]",
      "text/latex": [
       "$$\\frac{delP}{N \\mu}$$"
      ],
      "text/plain": [
       "delP\n",
       "────\n",
       "N⋅μ "
      ]
     },
     "metadata": {},
     "output_type": "display_data"
    }
   ],
   "source": [
    "print('Repeating variables: Q, mu, N')\n",
    "\n",
    "r = [Q, mu, N]\n",
    "rexp = [Qexp, muexp, Nexp]\n",
    "v = [D, rho, W, delP]\n",
    "vexp = [Dexp, rhoexp, Wexp, delPexp]\n",
    "\n",
    "for k in range(0,4):\n",
    "    Pi = v[k]*r[0]**a*r[1]**b*r[2]**c; #display(Pi)\n",
    "    Piexp = powsimp(expand_power_base(vexp[k]*(rexp[0]**a)*(rexp[1]**b)*(rexp[2]**c))); #display(Piexp)\n",
    "    expr=[expand_log(log(Piexp)).coeff(log(M)), expand_log(log(Piexp)).coeff(log(L)), expand_log(log(Piexp)).coeff(log(T))]\n",
    "    soln,=linsolve(expr,(a,b,c))\n",
    "    display(Pi.subs({a:soln[0],b:soln[1],c:soln[2]}))"
   ]
  },
  {
   "cell_type": "code",
   "execution_count": 14,
   "metadata": {},
   "outputs": [
    {
     "name": "stdout",
     "output_type": "stream",
     "text": [
      "Repeating variables: rho, W, D\n"
     ]
    },
    {
     "data": {
      "image/png": "[encoded data removed]",
      "text/latex": [
       "$$\\frac{D^{\\frac{4}{3}} delP}{W^{\\frac{2}{3}} \\sqrt[3]{\\rho}}$$"
      ],
      "text/plain": [
       " 4/3      \n",
       "D   ⋅delP \n",
       "──────────\n",
       " 2/3 3 ___\n",
       "W   ⋅╲╱ ρ "
      ]
     },
     "metadata": {},
     "output_type": "display_data"
    },
    {
     "data": {
      "image/png": "[encoded data removed]",
      "text/latex": [
       "$$\\frac{Q \\sqrt[3]{\\rho}}{D^{\\frac{4}{3}} \\sqrt[3]{W}}$$"
      ],
      "text/plain": [
       "   3 ___  \n",
       " Q⋅╲╱ ρ   \n",
       "──────────\n",
       " 4/3 3 ___\n",
       "D   ⋅╲╱ W "
      ]
     },
     "metadata": {},
     "output_type": "display_data"
    },
    {
     "data": {
      "image/png": "[encoded data removed]",
      "text/latex": [
       "$$\\frac{D^{\\frac{5}{3}} N}{\\sqrt[3]{W}} \\sqrt[3]{\\rho}$$"
      ],
      "text/plain": [
       " 5/3   3 ___\n",
       "D   ⋅N⋅╲╱ ρ \n",
       "────────────\n",
       "   3 ___    \n",
       "   ╲╱ W     "
      ]
     },
     "metadata": {},
     "output_type": "display_data"
    },
    {
     "data": {
      "image/png": "[encoded data removed]",
      "text/latex": [
       "$$\\frac{\\mu}{\\sqrt[3]{D} \\sqrt[3]{W} \\rho^{\\frac{2}{3}}}$$"
      ],
      "text/plain": [
       "       μ        \n",
       "────────────────\n",
       "3 ___ 3 ___  2/3\n",
       "╲╱ D ⋅╲╱ W ⋅ρ   "
      ]
     },
     "metadata": {},
     "output_type": "display_data"
    }
   ],
   "source": [
    "print('Repeating variables: rho, W, D')\n",
    "\n",
    "r = [rho, W, D]\n",
    "rexp = [rhoexp, Wexp, Dexp]\n",
    "v = [delP, Q, N, mu]\n",
    "vexp = [delPexp, Qexp, Nexp, muexp]\n",
    "\n",
    "for k in range(0,4):\n",
    "    Pi = v[k]*r[0]**a*r[1]**b*r[2]**c; #display(Pi)\n",
    "    Piexp = powsimp(expand_power_base(vexp[k]*(rexp[0]**a)*(rexp[1]**b)*(rexp[2]**c))); #display(Piexp)\n",
    "    expr=[expand_log(log(Piexp)).coeff(log(M)), expand_log(log(Piexp)).coeff(log(L)), expand_log(log(Piexp)).coeff(log(T))]\n",
    "    soln,=linsolve(expr,(a,b,c))\n",
    "    display(Pi.subs({a:soln[0],b:soln[1],c:soln[2]}))"
   ]
  },
  {
   "cell_type": "code",
   "execution_count": 15,
   "metadata": {},
   "outputs": [
    {
     "name": "stdout",
     "output_type": "stream",
     "text": [
      "Repeating variables: W, rho, mu\n"
     ]
    },
    {
     "data": {
      "image/png": "[encoded data removed]",
      "text/latex": [
       "$$\\frac{delP \\mu^{4}}{W^{2} \\rho^{3}}$$"
      ],
      "text/plain": [
       "      4\n",
       "delP⋅μ \n",
       "───────\n",
       "  2  3 \n",
       " W ⋅ρ  "
      ]
     },
     "metadata": {},
     "output_type": "display_data"
    },
    {
     "data": {
      "image/png": "[encoded data removed]",
      "text/latex": [
       "$$\\frac{Q W}{\\mu^{4}} \\rho^{3}$$"
      ],
      "text/plain": [
       "     3\n",
       "Q⋅W⋅ρ \n",
       "──────\n",
       "   4  \n",
       "  μ   "
      ]
     },
     "metadata": {},
     "output_type": "display_data"
    },
    {
     "data": {
      "image/png": "[encoded data removed]",
      "text/latex": [
       "$$\\frac{N \\mu^{5}}{W^{2} \\rho^{3}}$$"
      ],
      "text/plain": [
       "    5\n",
       " N⋅μ \n",
       "─────\n",
       " 2  3\n",
       "W ⋅ρ "
      ]
     },
     "metadata": {},
     "output_type": "display_data"
    },
    {
     "data": {
      "image/png": "[encoded data removed]",
      "text/latex": [
       "$$\\frac{D W}{\\mu^{3}} \\rho^{2}$$"
      ],
      "text/plain": [
       "     2\n",
       "D⋅W⋅ρ \n",
       "──────\n",
       "   3  \n",
       "  μ   "
      ]
     },
     "metadata": {},
     "output_type": "display_data"
    }
   ],
   "source": [
    "print('Repeating variables: W, rho, mu')\n",
    "\n",
    "r = [W, rho, mu]\n",
    "rexp = [Wexp, rhoexp, muexp]\n",
    "v = [delP, Q, N, D]\n",
    "vexp = [delPexp, Qexp, Nexp, Dexp]\n",
    "\n",
    "for k in range(0,4):\n",
    "    Pi = v[k]*r[0]**a*r[1]**b*r[2]**c; #display(Pi)\n",
    "    Piexp = powsimp(expand_power_base(vexp[k]*(rexp[0]**a)*(rexp[1]**b)*(rexp[2]**c))); #display(Piexp)\n",
    "    expr=[expand_log(log(Piexp)).coeff(log(M)), expand_log(log(Piexp)).coeff(log(L)), expand_log(log(Piexp)).coeff(log(T))]\n",
    "    soln,=linsolve(expr,(a,b,c))\n",
    "    display(Pi.subs({a:soln[0],b:soln[1],c:soln[2]}))"
   ]
  },
  {
   "cell_type": "code",
   "execution_count": 16,
   "metadata": {},
   "outputs": [
    {
     "name": "stdout",
     "output_type": "stream",
     "text": [
      "Repeating variables: delP, N, D\n"
     ]
    },
    {
     "data": {
      "image/png": "[encoded data removed]",
      "text/latex": [
       "$$\\frac{Q}{D^{3} N}$$"
      ],
      "text/plain": [
       " Q  \n",
       "────\n",
       " 3  \n",
       "D ⋅N"
      ]
     },
     "metadata": {},
     "output_type": "display_data"
    },
    {
     "data": {
      "image/png": "[encoded data removed]",
      "text/latex": [
       "$$\\frac{W}{D^{3} N delP}$$"
      ],
      "text/plain": [
       "    W    \n",
       "─────────\n",
       " 3       \n",
       "D ⋅N⋅delP"
      ]
     },
     "metadata": {},
     "output_type": "display_data"
    },
    {
     "data": {
      "image/png": "[encoded data removed]",
      "text/latex": [
       "$$\\frac{N \\mu}{delP}$$"
      ],
      "text/plain": [
       "N⋅μ \n",
       "────\n",
       "delP"
      ]
     },
     "metadata": {},
     "output_type": "display_data"
    },
    {
     "data": {
      "image/png": "[encoded data removed]",
      "text/latex": [
       "$$\\frac{D^{2} \\rho}{delP} N^{2}$$"
      ],
      "text/plain": [
       " 2  2  \n",
       "D ⋅N ⋅ρ\n",
       "───────\n",
       "  delP "
      ]
     },
     "metadata": {},
     "output_type": "display_data"
    }
   ],
   "source": [
    "print('Repeating variables: delP, N, D')\n",
    "\n",
    "r = [delP, N, D]\n",
    "rexp = [delPexp, Nexp, Dexp]\n",
    "v = [Q, W, mu, rho]\n",
    "vexp = [Qexp, Wexp, muexp, rhoexp]\n",
    "\n",
    "for k in range(0,4):\n",
    "    Pi = v[k]*r[0]**a*r[1]**b*r[2]**c; #display(Pi)\n",
    "    Piexp = powsimp(expand_power_base(vexp[k]*(rexp[0]**a)*(rexp[1]**b)*(rexp[2]**c))); #display(Piexp)\n",
    "    expr=[expand_log(log(Piexp)).coeff(log(M)), expand_log(log(Piexp)).coeff(log(L)), expand_log(log(Piexp)).coeff(log(T))]\n",
    "    soln,=linsolve(expr,(a,b,c))\n",
    "    display(Pi.subs({a:soln[0],b:soln[1],c:soln[2]}))"
   ]
  },
  {
   "cell_type": "code",
   "execution_count": 17,
   "metadata": {},
   "outputs": [
    {
     "name": "stdout",
     "output_type": "stream",
     "text": [
      "Repeating variables: delP, Q, N\n"
     ]
    },
    {
     "data": {
      "image/png": "[encoded data removed]",
      "text/latex": [
       "$$\\frac{D \\sqrt[3]{N}}{\\sqrt[3]{Q}}$$"
      ],
      "text/plain": [
       "  3 ___\n",
       "D⋅╲╱ N \n",
       "───────\n",
       " 3 ___ \n",
       " ╲╱ Q  "
      ]
     },
     "metadata": {},
     "output_type": "display_data"
    },
    {
     "data": {
      "image/png": "[encoded data removed]",
      "text/latex": [
       "$$\\frac{W}{Q delP}$$"
      ],
      "text/plain": [
       "  W   \n",
       "──────\n",
       "Q⋅delP"
      ]
     },
     "metadata": {},
     "output_type": "display_data"
    },
    {
     "data": {
      "image/png": "[encoded data removed]",
      "text/latex": [
       "$$\\frac{N^{\\frac{4}{3}} \\rho}{delP} Q^{\\frac{2}{3}}$$"
      ],
      "text/plain": [
       " 4/3  2/3  \n",
       "N   ⋅Q   ⋅ρ\n",
       "───────────\n",
       "    delP   "
      ]
     },
     "metadata": {},
     "output_type": "display_data"
    },
    {
     "data": {
      "image/png": "[encoded data removed]",
      "text/latex": [
       "$$\\frac{N \\mu}{delP}$$"
      ],
      "text/plain": [
       "N⋅μ \n",
       "────\n",
       "delP"
      ]
     },
     "metadata": {},
     "output_type": "display_data"
    }
   ],
   "source": [
    "print('Repeating variables: delP, Q, N')\n",
    "\n",
    "r = [delP, Q, N]\n",
    "rexp = [delPexp, Qexp, Nexp]\n",
    "v = [D, W, rho, mu]\n",
    "vexp = [Dexp, Wexp, rhoexp, muexp]\n",
    "\n",
    "for k in range(0,4):\n",
    "    Pi = v[k]*r[0]**a*r[1]**b*r[2]**c; #display(Pi)\n",
    "    Piexp = powsimp(expand_power_base(vexp[k]*(rexp[0]**a)*(rexp[1]**b)*(rexp[2]**c))); #display(Piexp)\n",
    "    expr=[expand_log(log(Piexp)).coeff(log(M)), expand_log(log(Piexp)).coeff(log(L)), expand_log(log(Piexp)).coeff(log(T))]\n",
    "    soln,=linsolve(expr,(a,b,c))\n",
    "    display(Pi.subs({a:soln[0],b:soln[1],c:soln[2]}))"
   ]
  },
  {
   "cell_type": "code",
   "execution_count": 18,
   "metadata": {},
   "outputs": [
    {
     "name": "stdout",
     "output_type": "stream",
     "text": [
      "Repeating variables: Q, rho, mu\n"
     ]
    },
    {
     "data": {
      "image/png": "[encoded data removed]",
      "text/latex": [
       "$$\\frac{Q^{2} delP}{\\mu^{4}} \\rho^{3}$$"
      ],
      "text/plain": [
       " 2       3\n",
       "Q ⋅delP⋅ρ \n",
       "──────────\n",
       "     4    \n",
       "    μ     "
      ]
     },
     "metadata": {},
     "output_type": "display_data"
    },
    {
     "data": {
      "image/png": "[encoded data removed]",
      "text/latex": [
       "$$\\frac{N Q^{2}}{\\mu^{3}} \\rho^{3}$$"
      ],
      "text/plain": [
       "   2  3\n",
       "N⋅Q ⋅ρ \n",
       "───────\n",
       "    3  \n",
       "   μ   "
      ]
     },
     "metadata": {},
     "output_type": "display_data"
    },
    {
     "data": {
      "image/png": "[encoded data removed]",
      "text/latex": [
       "$$\\frac{D \\mu}{Q \\rho}$$"
      ],
      "text/plain": [
       "D⋅μ\n",
       "───\n",
       "Q⋅ρ"
      ]
     },
     "metadata": {},
     "output_type": "display_data"
    },
    {
     "data": {
      "image/png": "[encoded data removed]",
      "text/latex": [
       "$$\\frac{Q W}{\\mu^{4}} \\rho^{3}$$"
      ],
      "text/plain": [
       "     3\n",
       "Q⋅W⋅ρ \n",
       "──────\n",
       "   4  \n",
       "  μ   "
      ]
     },
     "metadata": {},
     "output_type": "display_data"
    }
   ],
   "source": [
    "print('Repeating variables: Q, rho, mu')\n",
    "\n",
    "r = [Q, rho, mu]\n",
    "rexp = [Qexp, rhoexp, muexp]\n",
    "v = [delP, N, D, W]\n",
    "vexp = [delPexp, Nexp, Dexp, Wexp]\n",
    "\n",
    "\n",
    "r1 = r[0]\n",
    "r2 = r[1]\n",
    "r3 = r[2]\n",
    "\n",
    "r1exp = rexp[0]\n",
    "r2exp = rexp[1]\n",
    "r3exp = rexp[2]\n",
    "\n",
    "\n",
    "\n",
    "v1 = v[0]\n",
    "v2 = v[1]\n",
    "v3 = v[2]\n",
    "v4 = v[3]\n",
    "\n",
    "v1exp = vexp[0]\n",
    "v2exp = vexp[1]\n",
    "v3exp = vexp[2]\n",
    "v4exp = vexp[3]\n",
    "\n",
    "\n",
    "Pi1 = v1*r1**a*r2**b*r3**c\n",
    "Pi1exp = powsimp(expand_power_base(v1exp*(r1exp**a)*(r2exp**b)*(r3exp**c))); #display(Pi1exp)\n",
    "expr=[expand_log(log(Pi1exp)).coeff(log(M)), expand_log(log(Pi1exp)).coeff(log(L)), expand_log(log(Pi1exp)).coeff(log(T))]\n",
    "soln,=linsolve(expr,(a,b,c))\n",
    "display(Pi1.subs({a:soln[0],b:soln[1],c:soln[2]}))\n",
    "\n",
    "\n",
    "Pi2 = v2*(r1**a)*(r2**b)*(r3**c)\n",
    "Pi2exp = powsimp(expand_power_base(v2exp*(r1exp**a)*(r2exp**b)*(r3exp**c))); #display(Pi2exp)\n",
    "expr=[expand_log(log(Pi2exp)).coeff(log(M)), expand_log(log(Pi2exp)).coeff(log(L)), expand_log(log(Pi2exp)).coeff(log(T))]\n",
    "soln,=linsolve(expr,(a,b,c))\n",
    "display(Pi2.subs({a:soln[0],b:soln[1],c:soln[2]}))\n",
    "\n",
    "\n",
    "Pi3 = v3*(r1**a)*(r2**b)*(r3**c)\n",
    "Pi3exp = powsimp(expand_power_base(v3exp*(r1exp**a)*(r2exp**b)*(r3exp**c))); #display(Pi3exp)\n",
    "expr=[expand_log(log(Pi3exp)).coeff(log(M)), expand_log(log(Pi3exp)).coeff(log(L)), expand_log(log(Pi3exp)).coeff(log(T))]\n",
    "soln,=linsolve(expr,(a,b,c))\n",
    "display(Pi3.subs({a:soln[0],b:soln[1],c:soln[2]}))\n",
    "\n",
    "\n",
    "Pi4 = v4*(r1**a)*(r2**b)*(r3**c)\n",
    "Pi4exp = powsimp(expand_power_base(v4exp*(r1exp**a)*(r2exp**b)*(r3exp**c))); #display(Pi4exp)\n",
    "expr=[expand_log(log(Pi4exp)).coeff(log(M)), expand_log(log(Pi4exp)).coeff(log(L)), expand_log(log(Pi4exp)).coeff(log(T))]\n",
    "soln,=linsolve(expr,(a,b,c))\n",
    "display(Pi4.subs({a:soln[0],b:soln[1],c:soln[2]}))"
   ]
  },
  {
   "cell_type": "code",
   "execution_count": null,
   "metadata": {},
   "outputs": [],
   "source": []
  }
 ],
 "metadata": {
  "kernelspec": {
   "display_name": "Python 3",
   "language": "python",
   "name": "python3"
  },
  "language_info": {
   "codemirror_mode": {
    "name": "ipython",
    "version": 3
   },
   "file_extension": ".py",
   "mimetype": "text/x-python",
   "name": "python",
   "nbconvert_exporter": "python",
   "pygments_lexer": "ipython3",
   "version": "3.6.4"
  }
 },
 "nbformat": 4,
 "nbformat_minor": 2
}
