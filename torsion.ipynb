{
 "cells": [
  {
   "cell_type": "markdown",
   "metadata": {},
   "source": [
    "The following code is used to find the torsional rigidity of a circular cross-section from the Prandtl stress function ($\\psi$). \n",
    "\n",
    "The circle is given by $x^2+y^2=R^2$. \n",
    "\n",
    "The Prandtl stress function is given by $\\psi = K\\left(R^2 - x^2 - y^2\\right)$.\n",
    "\n",
    "First, we solve for $K$ by noting that $\\psi$ must satisfy the equation $\\nabla^2 \\psi = -1$.\n",
    "\n",
    "The torsional rigidity is given by $GJ = 4 G \\int_A \\psi \\; {\\rm d}A$. (Note that this is the formula for a simply-connected cross-section.)\n",
    "\n",
    "We display the polar moment of inertia ($J$). The torsional rigidity can be found by just multiplying by $G$. "
   ]
  },
  {
   "cell_type": "code",
   "execution_count": 8,
   "metadata": {},
   "outputs": [
    {
     "data": {
      "image/png": "[encoded data removed]",
      "text/latex": [
       "$$\\frac{1}{4}$$"
      ],
      "text/plain": [
       "1/4"
      ]
     },
     "metadata": {},
     "output_type": "display_data"
    },
    {
     "data": {
      "image/png": "[encoded data removed]",
      "text/latex": [
       "$$\\frac{\\pi R^{4}}{2}$$"
      ],
      "text/plain": [
       "   4\n",
       "π⋅R \n",
       "────\n",
       " 2  "
      ]
     },
     "metadata": {},
     "output_type": "display_data"
    },
    {
     "data": {
      "image/png": "[encoded data removed]",
      "text/latex": [
       "$$\\frac{\\pi R^{4}}{2}$$"
      ],
      "text/plain": [
       "   4\n",
       "π⋅R \n",
       "────\n",
       " 2  "
      ]
     },
     "metadata": {},
     "output_type": "display_data"
    }
   ],
   "source": [
    "from sympy import *\n",
    "init_printing()\n",
    "x, y, r = symbols('x y r')\n",
    "R = Symbol('R')\n",
    "K = Symbol('K')\n",
    "psi = K*(R**2 - (x**2 + y**2))\n",
    "lhs = diff(psi,x,2)+diff(psi,y,2)\n",
    "rhs = -1\n",
    "sol=solve(lhs-rhs,K)\n",
    "Kvalue = sol[0]\n",
    "display(Kvalue)\n",
    "\n",
    "display(integrate(4*K*(R**2-r**2)*2*pi*r,(r,0,R)).subs(K,Kvalue))\n",
    "\n",
    "int1=integrate(psi,(y,-sqrt(R**2-x**2),sqrt(R**2-x**2)))\n",
    "\n",
    "\n",
    "int2=4*integrate(int1.simplify(),(x,-R,R))\n",
    "\n",
    "J = int2.subs(K,Kvalue)\n",
    "\n",
    "display(J)\n",
    "\n"
   ]
  },
  {
   "cell_type": "code",
   "execution_count": 1,
   "metadata": {},
   "outputs": [
    {
     "name": "stdout",
     "output_type": "stream",
     "text": [
      "Using matplotlib backend: Qt5Agg\n"
     ]
    },
    {
     "data": {
      "image/png": "[encoded data removed]",
      "text/latex": [
       "$$\\frac{a^{2} b^{2}}{2 \\left(a^{2} + b^{2}\\right)}$$"
      ],
      "text/plain": [
       "    2  2   \n",
       "   a ⋅b    \n",
       "───────────\n",
       "  ⎛ 2    2⎞\n",
       "2⋅⎝a  + b ⎠"
      ]
     },
     "metadata": {},
     "output_type": "display_data"
    },
    {
     "data": {
      "image/png": "[encoded data removed]",
      "text/latex": [
       "$$\\frac{225}{68}$$"
      ],
      "text/plain": [
       "225\n",
       "───\n",
       " 68"
      ]
     },
     "metadata": {},
     "output_type": "display_data"
    },
    {
     "data": {
      "text/plain": [
       "<matplotlib.contour.QuadContourSet at 0x21bf1ff5160>"
      ]
     },
     "execution_count": 1,
     "metadata": {},
     "output_type": "execute_result"
    }
   ],
   "source": [
    "%matplotlib\n",
    "import numpy as np\n",
    "from sympy import *\n",
    "from sympy.plotting import plot3d\n",
    "import matplotlib.pyplot as plt\n",
    "init_printing()\n",
    "\n",
    "x, y, a, b, K = symbols('x y a b K')\n",
    "\n",
    "\n",
    "boundary = (1 - (x**2/a**2 + y**2/b**2))\n",
    "psi = K*boundary\n",
    "lhs = diff(psi,x,2)+diff(psi,y,2)\n",
    "rhs = -1\n",
    "sol=solve(lhs-rhs,K)\n",
    "display(sol[0])\n",
    "\n",
    "avalue = 5\n",
    "bvalue = 3\n",
    "Kvalue = sol[0].subs([(a,avalue),(b,bvalue)])\n",
    "display(Kvalue)\n",
    "\n",
    "boundary_expr = boundary.subs([(a,avalue),(b,bvalue)])\n",
    "boundary_func = lambdify((x,y),boundary_expr)\n",
    "\n",
    "psi_expr = Kvalue*boundary_expr\n",
    "psi_func = lambdify((x,y),psi_expr)\n",
    "\n",
    "\n",
    "phi_expr = symbols('phi_expr')\n",
    "phi_expr = x*y*(1-4*Kvalue/bvalue**2)\n",
    "phi_func = lambdify((x,y),phi_expr)\n",
    "\n",
    "xdata = np.linspace(-avalue,avalue,1000)\n",
    "ydata = np.linspace(-bvalue,bvalue,1000)\n",
    "xplot, yplot = np.meshgrid(xdata,ydata)\n",
    "\n",
    "\n",
    "boundaryplot = boundary_func(xplot,yplot)\n",
    "psiplot = psi_func(xplot,yplot)\n",
    "phiplot = phi_func(xplot,yplot)\n",
    "\n",
    "\n",
    "#plt.contour(xplot,yplot,phiplot*(boundaryplot>0))\n",
    "plt.contour(xplot,yplot,psiplot*(boundaryplot>0))\n",
    "\n",
    "#plot3d(Kvalue*(1 - (x**2/avalue**2 + y**2/bvalue**2)), (x, -avalue, avalue), (y, -bvalue, bvalue))"
   ]
  },
  {
   "cell_type": "code",
   "execution_count": 5,
   "metadata": {},
   "outputs": [
    {
     "data": {
      "text/plain": [
       "R**4/4"
      ]
     },
     "execution_count": 5,
     "metadata": {},
     "output_type": "execute_result"
    }
   ],
   "source": [
    "integrate(x*y,(x,0,R),(y,0,R))"
   ]
  },
  {
   "cell_type": "code",
   "execution_count": 4,
   "metadata": {},
   "outputs": [
    {
     "name": "stdout",
     "output_type": "stream",
     "text": [
      "Using matplotlib backend: Qt5Agg\n"
     ]
    },
    {
     "data": {
      "image/png": "[encoded data removed]",
      "text/latex": [
       "$$- \\frac{1}{12}$$"
      ],
      "text/plain": [
       "-1/12"
      ]
     },
     "metadata": {},
     "output_type": "display_data"
    },
    {
     "data": {
      "text/plain": [
       "<matplotlib.contour.QuadContourSet at 0x21b80a1b710>"
      ]
     },
     "execution_count": 4,
     "metadata": {},
     "output_type": "execute_result"
    }
   ],
   "source": [
    "%matplotlib\n",
    "import numpy as np\n",
    "from sympy import *\n",
    "#from sympy.plotting import plot3d\n",
    "import matplotlib.pyplot as plt\n",
    "\n",
    "x, y, a = symbols('x y a')\n",
    "#psi = K*(x+a/3)*(y-1/sqrt(3)*(2*a/3-x))*(y+1/sqrt(3)*(2*a/3-x))\n",
    "psi = K*(x-sqrt(3)*y+2*a)*(x+sqrt(3)*y+2*a)*(x-a)\n",
    "lhs = diff(psi,x,2)+diff(psi,y,2)\n",
    "rhs = -1\n",
    "sol = solve(lhs-rhs,K)\n",
    "\n",
    "\n",
    "avalue = 1\n",
    "Kvalue = sol[0].subs(a,avalue)\n",
    "display(Kvalue)\n",
    "\n",
    "xdata = np.linspace(-2*avalue,2*avalue,2000)\n",
    "ydata = np.linspace(-2*avalue,2*avalue,2000)\n",
    "xplot, yplot = np.meshgrid(xdata,ydata)\n",
    "\n",
    "#boundary_expr = (x+avalue/3)*(y-1/sqrt(3)*(2*avalue/3-x))*(y+1/sqrt(3)*(2*avalue/3-x))\n",
    "boundary_expr = Kvalue*(x-sqrt(3)*y+2*avalue)*(x+sqrt(3)*y+2*avalue)*(x-avalue)\n",
    "boundary = lambdify((x,y),boundary_expr)\n",
    "boundaryplot = boundary(xplot,yplot)\n",
    "\n",
    "\n",
    "psi_expr = Kvalue*boundary_expr\n",
    "psi_lamb = lambdify((x,y),psi_expr)\n",
    "psiplot = psi_lamb(xplot,yplot)\n",
    "\n",
    "plt.contour(xplot,yplot,psiplot*(boundaryplot>0))\n",
    "#plot3d(psi, (x, -2*avalue, 2*avalue), (y, -2*avalue, 2*avalue))"
   ]
  },
  {
   "cell_type": "code",
   "execution_count": 43,
   "metadata": {},
   "outputs": [
    {
     "data": {
      "text/plain": [
       "array([[0.250000000000000, 0.249665999444445, 0.249331333561571, ...,\n",
       "        0.0271144482228829, 0.0274451123346677, 0.0277777777777778],\n",
       "       [0.249000001002003, 0.248667335113112, 0.248334003896902, ...,\n",
       "        0.0274451118888872, 0.0277771106673360, 0.0281111107771101],\n",
       "       [0.248002006010014, 0.247670672113105, 0.247338672888875, ...,\n",
       "        0.0277751129022543, 0.0281084436726844, 0.0284437757744398],\n",
       "       ...,\n",
       "       [0.248002006010014, 0.247670672113105, 0.247338672888876, ...,\n",
       "        0.0277751129022543, 0.0281084436726844, 0.0284437757744398],\n",
       "       [0.249000001002003, 0.248667335113112, 0.248334003896902, ...,\n",
       "        0.0274451118888872, 0.0277771106673360, 0.0281111107771101],\n",
       "       [0.250000000000000, 0.249665999444445, 0.249331333561571, ...,\n",
       "        0.0271144482228829, 0.0274451123346677, 0.0277777777777778]],\n",
       "      dtype=object)"
      ]
     },
     "execution_count": 43,
     "metadata": {},
     "output_type": "execute_result"
    }
   ],
   "source": [
    "psiplot"
   ]
  },
  {
   "cell_type": "code",
   "execution_count": 7,
   "metadata": {},
   "outputs": [
    {
     "data": {
      "text/plain": [
       "-R + a"
      ]
     },
     "execution_count": 7,
     "metadata": {},
     "output_type": "execute_result"
    }
   ],
   "source": [
    "expr=sqrt((R-a)**2)\n",
    "refine(expr, Q.negative(R-a))"
   ]
  },
  {
   "cell_type": "code",
   "execution_count": 4,
   "metadata": {},
   "outputs": [
    {
     "data": {
      "text/plain": [
       "[1/(2*(a**2 + b**2 - x**2 - y**2))]"
      ]
     },
     "metadata": {},
     "output_type": "display_data"
    }
   ],
   "source": [
    "from sympy import *\n",
    "x, y, a, b = symbols('x y a b')\n",
    "K = Symbol('K')\n",
    "psi = K*(a**2-x**2)*(b**2-y**2)\n",
    "lhs = diff(psi,x,2)+diff(psi,y,2)\n",
    "rhs = -1\n",
    "sol=solve(lhs-rhs,K)\n",
    "display(sol)\n",
    "\n",
    "#expr=integrate(2*psi,(y,0,sqrt(R**2-x**2)))\n",
    "\n",
    "#fact = Q.positive(R**2-x**2), Q.negative(x**2-R**2)\n",
    "#with assuming(*facts):\n",
    "#expr2=4*integrate(expr.simplify(),(x,-R,R))\n",
    "\n",
    "#display(expr2.subs(K,sol[0]))"
   ]
  },
  {
   "cell_type": "code",
   "execution_count": 19,
   "metadata": {},
   "outputs": [
    {
     "data": {
      "text/plain": [
       "{Eq(x(t), -exp(C1)/(C2*exp(C1) - cos(t))), Eq(y(t), -1/(C1 - cos(t)))}"
      ]
     },
     "execution_count": 19,
     "metadata": {},
     "output_type": "execute_result"
    }
   ],
   "source": [
    "v = Function('v')\n",
    "g, u, t = symbols('g u t')\n",
    "#eq = Eq(Derivative(v(t),t)+g+g/u*v(t))\n",
    "#dsolve(eq)\n",
    "\n",
    "eq1 = Eq(Derivative(x(t),t),x(t)*y(t)*sin(t))\n",
    "eq2 = Eq(Derivative(y(t),t),y(t)**2*sin(t))\n",
    "\n",
    "eq = (eq1,eq2)\n",
    "#eq = (Eq(Derivative(x(t),t),x(t)*y(t)*sin(t)), Eq(Derivative(y(t),t),y(t)**2*sin(t)))\n",
    "dsolve(eq)"
   ]
  },
  {
   "cell_type": "code",
   "execution_count": 21,
   "metadata": {},
   "outputs": [
    {
     "ename": "AttributeError",
     "evalue": "'tuple' object has no attribute 'atoms'",
     "output_type": "error",
     "traceback": [
      "\u001b[1;31m---------------------------------------------------------------------------\u001b[0m",
      "\u001b[1;31mAttributeError\u001b[0m                            Traceback (most recent call last)",
      "\u001b[1;32m<ipython-input-21-95e9e4b2ebcb>\u001b[0m in \u001b[0;36m<module>\u001b[1;34m()\u001b[0m\n\u001b[0;32m      8\u001b[0m \u001b[1;33m\u001b[0m\u001b[0m\n\u001b[0;32m      9\u001b[0m \u001b[0meqwhole\u001b[0m \u001b[1;33m=\u001b[0m \u001b[1;33m(\u001b[0m\u001b[0meq1\u001b[0m\u001b[1;33m,\u001b[0m\u001b[0meq2\u001b[0m\u001b[1;33m)\u001b[0m\u001b[1;33m\u001b[0m\u001b[0m\n\u001b[1;32m---> 10\u001b[1;33m \u001b[0mpdsolve\u001b[0m\u001b[1;33m(\u001b[0m\u001b[0meqwhole\u001b[0m\u001b[1;33m)\u001b[0m\u001b[1;33m\u001b[0m\u001b[0m\n\u001b[0m",
      "\u001b[1;32m~\\Anaconda3\\lib\\site-packages\\sympy\\solvers\\pde.py\u001b[0m in \u001b[0;36mpdsolve\u001b[1;34m(eq, func, hint, dict, solvefun, **kwargs)\u001b[0m\n\u001b[0;32m    171\u001b[0m     \u001b[1;31m# See the docstring of _desolve for more details.\u001b[0m\u001b[1;33m\u001b[0m\u001b[1;33m\u001b[0m\u001b[0m\n\u001b[0;32m    172\u001b[0m     hints = _desolve(eq, func=func,\n\u001b[1;32m--> 173\u001b[1;33m         hint=hint, simplify=True, type='pde', **kwargs)\n\u001b[0m\u001b[0;32m    174\u001b[0m     \u001b[0meq\u001b[0m \u001b[1;33m=\u001b[0m \u001b[0mhints\u001b[0m\u001b[1;33m.\u001b[0m\u001b[0mpop\u001b[0m\u001b[1;33m(\u001b[0m\u001b[1;34m'eq'\u001b[0m\u001b[1;33m,\u001b[0m \u001b[1;32mFalse\u001b[0m\u001b[1;33m)\u001b[0m\u001b[1;33m\u001b[0m\u001b[0m\n\u001b[0;32m    175\u001b[0m     \u001b[0mall_\u001b[0m \u001b[1;33m=\u001b[0m \u001b[0mhints\u001b[0m\u001b[1;33m.\u001b[0m\u001b[0mpop\u001b[0m\u001b[1;33m(\u001b[0m\u001b[1;34m'all'\u001b[0m\u001b[1;33m,\u001b[0m \u001b[1;32mFalse\u001b[0m\u001b[1;33m)\u001b[0m\u001b[1;33m\u001b[0m\u001b[0m\n",
      "\u001b[1;32m~\\Anaconda3\\lib\\site-packages\\sympy\\solvers\\deutils.py\u001b[0m in \u001b[0;36m_desolve\u001b[1;34m(eq, func, hint, ics, simplify, **kwargs)\u001b[0m\n\u001b[0;32m    173\u001b[0m     \u001b[1;31m# preprocess the equation and find func if not given\u001b[0m\u001b[1;33m\u001b[0m\u001b[1;33m\u001b[0m\u001b[0m\n\u001b[0;32m    174\u001b[0m     \u001b[1;32mif\u001b[0m \u001b[0mprep\u001b[0m \u001b[1;32mor\u001b[0m \u001b[0mfunc\u001b[0m \u001b[1;32mis\u001b[0m \u001b[1;32mNone\u001b[0m\u001b[1;33m:\u001b[0m\u001b[1;33m\u001b[0m\u001b[0m\n\u001b[1;32m--> 175\u001b[1;33m         \u001b[0meq\u001b[0m\u001b[1;33m,\u001b[0m \u001b[0mfunc\u001b[0m \u001b[1;33m=\u001b[0m \u001b[0m_preprocess\u001b[0m\u001b[1;33m(\u001b[0m\u001b[0meq\u001b[0m\u001b[1;33m,\u001b[0m \u001b[0mfunc\u001b[0m\u001b[1;33m)\u001b[0m\u001b[1;33m\u001b[0m\u001b[0m\n\u001b[0m\u001b[0;32m    176\u001b[0m         \u001b[0mprep\u001b[0m \u001b[1;33m=\u001b[0m \u001b[1;32mFalse\u001b[0m\u001b[1;33m\u001b[0m\u001b[0m\n\u001b[0;32m    177\u001b[0m \u001b[1;33m\u001b[0m\u001b[0m\n",
      "\u001b[1;32m~\\Anaconda3\\lib\\site-packages\\sympy\\solvers\\deutils.py\u001b[0m in \u001b[0;36m_preprocess\u001b[1;34m(expr, func, hint)\u001b[0m\n\u001b[0;32m     70\u001b[0m     \"\"\"\n\u001b[0;32m     71\u001b[0m \u001b[1;33m\u001b[0m\u001b[0m\n\u001b[1;32m---> 72\u001b[1;33m     \u001b[0mderivs\u001b[0m \u001b[1;33m=\u001b[0m \u001b[0mexpr\u001b[0m\u001b[1;33m.\u001b[0m\u001b[0matoms\u001b[0m\u001b[1;33m(\u001b[0m\u001b[0mDerivative\u001b[0m\u001b[1;33m)\u001b[0m\u001b[1;33m\u001b[0m\u001b[0m\n\u001b[0m\u001b[0;32m     73\u001b[0m     \u001b[1;32mif\u001b[0m \u001b[1;32mnot\u001b[0m \u001b[0mfunc\u001b[0m\u001b[1;33m:\u001b[0m\u001b[1;33m\u001b[0m\u001b[0m\n\u001b[0;32m     74\u001b[0m         \u001b[0mfuncs\u001b[0m \u001b[1;33m=\u001b[0m \u001b[0mset\u001b[0m\u001b[1;33m(\u001b[0m\u001b[1;33m)\u001b[0m\u001b[1;33m.\u001b[0m\u001b[0munion\u001b[0m\u001b[1;33m(\u001b[0m\u001b[1;33m*\u001b[0m\u001b[1;33m[\u001b[0m\u001b[0md\u001b[0m\u001b[1;33m.\u001b[0m\u001b[0matoms\u001b[0m\u001b[1;33m(\u001b[0m\u001b[0mAppliedUndef\u001b[0m\u001b[1;33m)\u001b[0m \u001b[1;32mfor\u001b[0m \u001b[0md\u001b[0m \u001b[1;32min\u001b[0m \u001b[0mderivs\u001b[0m\u001b[1;33m]\u001b[0m\u001b[1;33m)\u001b[0m\u001b[1;33m\u001b[0m\u001b[0m\n",
      "\u001b[1;31mAttributeError\u001b[0m: 'tuple' object has no attribute 'atoms'"
     ]
    }
   ],
   "source": [
    "K = a**2*b**2/(a**2+b**2)\n",
    "f = Function('f')\n",
    "phi = f(x,y)\n",
    "phix = f.diff(x)\n",
    "phiy = f.diff(y)\n",
    "eq1 = Eq(phix-y*(1-4*K/b**2))\n",
    "eq2 = Eq(phiy+x*(1-4*K/a**2))\n",
    "\n",
    "eqwhole = (eq1,eq2)\n",
    "pdsolve(eqwhole)"
   ]
  },
  {
   "cell_type": "code",
   "execution_count": 35,
   "metadata": {},
   "outputs": [
    {
     "ename": "NameError",
     "evalue": "name 'sub' is not defined",
     "output_type": "error",
     "traceback": [
      "\u001b[1;31m---------------------------------------------------------------------------\u001b[0m",
      "\u001b[1;31mNameError\u001b[0m                                 Traceback (most recent call last)",
      "\u001b[1;32m<ipython-input-35-8cb000710ed0>\u001b[0m in \u001b[0;36m<module>\u001b[1;34m()\u001b[0m\n\u001b[1;32m----> 1\u001b[1;33m \u001b[0mhelp\u001b[0m\u001b[1;33m(\u001b[0m\u001b[0msub\u001b[0m\u001b[1;33m)\u001b[0m\u001b[1;33m\u001b[0m\u001b[0m\n\u001b[0m",
      "\u001b[1;31mNameError\u001b[0m: name 'sub' is not defined"
     ]
    }
   ],
   "source": []
  },
  {
   "cell_type": "code",
   "execution_count": 5,
   "metadata": {},
   "outputs": [
    {
     "name": "stdout",
     "output_type": "stream",
     "text": [
      "Using matplotlib backend: Qt5Agg\n"
     ]
    },
    {
     "ename": "NameError",
     "evalue": "name 'ParametricPlot3D' is not defined",
     "output_type": "error",
     "traceback": [
      "\u001b[1;31m---------------------------------------------------------------------------\u001b[0m",
      "\u001b[1;31mNameError\u001b[0m                                 Traceback (most recent call last)",
      "\u001b[1;32m<ipython-input-5-b5e67927a08d>\u001b[0m in \u001b[0;36m<module>\u001b[1;34m()\u001b[0m\n\u001b[0;32m      4\u001b[0m \u001b[0mx\u001b[0m\u001b[1;33m,\u001b[0m \u001b[0my\u001b[0m \u001b[1;33m=\u001b[0m \u001b[0msymbols\u001b[0m\u001b[1;33m(\u001b[0m\u001b[1;34m'x y'\u001b[0m\u001b[1;33m)\u001b[0m\u001b[1;33m\u001b[0m\u001b[0m\n\u001b[0;32m      5\u001b[0m \u001b[1;31m#plot3d(2 * (x**2 + y**2), (x, -5, 5), (y, -5, 5))\u001b[0m\u001b[1;33m\u001b[0m\u001b[1;33m\u001b[0m\u001b[0m\n\u001b[1;32m----> 6\u001b[1;33m \u001b[0mParametricPlot3D\u001b[0m\u001b[1;33m[\u001b[0m\u001b[1;33m{\u001b[0m\u001b[0mx\u001b[0m\u001b[1;33m,\u001b[0m \u001b[0my\u001b[0m\u001b[1;33m,\u001b[0m \u001b[0mx\u001b[0m\u001b[1;33m^\u001b[0m\u001b[1;36m2\u001b[0m \u001b[1;33m-\u001b[0m \u001b[0my\u001b[0m\u001b[1;33m^\u001b[0m\u001b[1;36m2\u001b[0m\u001b[1;33m}\u001b[0m\u001b[1;33m,\u001b[0m \u001b[1;33m{\u001b[0m\u001b[0mx\u001b[0m\u001b[1;33m,\u001b[0m \u001b[1;33m-\u001b[0m\u001b[1;36m1\u001b[0m\u001b[1;33m,\u001b[0m \u001b[1;36m1\u001b[0m\u001b[1;33m}\u001b[0m\u001b[1;33m,\u001b[0m \u001b[1;33m{\u001b[0m\u001b[0my\u001b[0m\u001b[1;33m,\u001b[0m \u001b[1;33m-\u001b[0m\u001b[1;36m1\u001b[0m\u001b[1;33m,\u001b[0m \u001b[1;36m1\u001b[0m\u001b[1;33m}\u001b[0m\u001b[1;33m]\u001b[0m\u001b[1;33m\u001b[0m\u001b[0m\n\u001b[0m",
      "\u001b[1;31mNameError\u001b[0m: name 'ParametricPlot3D' is not defined"
     ]
    }
   ],
   "source": [
    "%matplotlib\n",
    "from sympy import symbols\n",
    "from sympy.plotting import plot3d\n",
    "x, y = symbols('x y')\n",
    "#plot3d(2 * (x**2 + y**2), (x, -5, 5), (y, -5, 5))\n",
    "ParametricPlot3D[{x, y, x^2 - y^2}, {x, -1, 1}, {y, -1, 1}]"
   ]
  },
  {
   "cell_type": "code",
   "execution_count": 1,
   "metadata": {},
   "outputs": [
    {
     "name": "stdout",
     "output_type": "stream",
     "text": [
      "Using matplotlib backend: Qt5Agg\n"
     ]
    }
   ],
   "source": [
    "%matplotlib"
   ]
  },
  {
   "cell_type": "code",
   "execution_count": 20,
   "metadata": {},
   "outputs": [
    {
     "data": {
      "text/plain": [
       "<matplotlib.contour.QuadContourSet at 0x1bfb3263278>"
      ]
     },
     "execution_count": 20,
     "metadata": {},
     "output_type": "execute_result"
    }
   ],
   "source": [
    "import numpy as np\n",
    "from sympy import *\n",
    "#from mpl_toolkits.mplot3d import Axes3D\n",
    "import matplotlib.pyplot as plt\n",
    "\n",
    "\n",
    "#ax = plt.axes(projection='3d')\n",
    "\n",
    "x, y = symbols('x y')\n",
    "#xplot = np.outer(np.linspace(-5, 5, 100), np.ones(100))\n",
    "#yplot = xplot.T\n",
    "xdata = np.linspace(-5,5,1000)\n",
    "ydata = xdata\n",
    "\n",
    "xplot, yplot = np.meshgrid(xdata,ydata)\n",
    "\n",
    "expr = x**2 + y**2\n",
    "func = lambdify((x,y),expr)\n",
    "zplot = func(xplot,yplot)\n",
    "\n",
    "\n",
    "plt.contour(xplot,yplot,zplot*(zplot<20))"
   ]
  },
  {
   "cell_type": "code",
   "execution_count": 8,
   "metadata": {},
   "outputs": [
    {
     "data": {
      "text/plain": [
       "<matplotlib.contour.QuadContourSet at 0x1bfb0c822e8>"
      ]
     },
     "execution_count": 8,
     "metadata": {},
     "output_type": "execute_result"
    }
   ],
   "source": [
    "import matplotlib.pyplot as plt\n",
    "plt.contour(xplot,yplot,zplot)"
   ]
  },
  {
   "cell_type": "code",
   "execution_count": null,
   "metadata": {},
   "outputs": [],
   "source": [
    "#fact = Q.positive(R**2-x**2), Q.negative(x**2-R**2)\n",
    "#with assuming(*facts):"
   ]
  }
 ],
 "metadata": {
  "kernelspec": {
   "display_name": "Python 3",
   "language": "python",
   "name": "python3"
  },
  "language_info": {
   "codemirror_mode": {
    "name": "ipython",
    "version": 3
   },
   "file_extension": ".py",
   "mimetype": "text/x-python",
   "name": "python",
   "nbconvert_exporter": "python",
   "pygments_lexer": "ipython3",
   "version": "3.6.4"
  }
 },
 "nbformat": 4,
 "nbformat_minor": 2
}
